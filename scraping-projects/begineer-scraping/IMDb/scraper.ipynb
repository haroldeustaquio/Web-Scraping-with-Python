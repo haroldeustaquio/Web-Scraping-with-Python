{
 "cells": [
  {
   "cell_type": "markdown",
   "metadata": {},
   "source": [
    "### Importing Libraries"
   ]
  },
  {
   "cell_type": "code",
   "execution_count": 105,
   "metadata": {},
   "outputs": [],
   "source": [
    "from selenium import webdriver\n",
    "from selenium.webdriver.common.by import By\n",
    "import pandas as pd"
   ]
  },
  {
   "cell_type": "markdown",
   "metadata": {},
   "source": [
    "### `open_web_page`\n",
    "\n",
    "The `open_web_page` function uses a Chrome driver (via Selenium) to access a webpage specified by the provided URL argument. This function launches a Google Chrome browser instance and opens the corresponding page."
   ]
  },
  {
   "cell_type": "code",
   "execution_count": 106,
   "metadata": {},
   "outputs": [],
   "source": [
    "def open_web_page(url):\n",
    "    driver = webdriver.Chrome() \n",
    "    driver.get(url)\n",
    "    return driver"
   ]
  },
  {
   "cell_type": "markdown",
   "metadata": {},
   "source": [
    "### `extract_movie_info`\n",
    "\n",
    "The `extract_movie_info` function extracts information about movies from a webpage using a web driver. It retrieves data such as the movie title, release year, duration, star rating, number of reviewers, and the movie's image URL. This data is stored in a global list info. After collecting the information, the function closes the browser."
   ]
  },
  {
   "cell_type": "code",
   "execution_count": 107,
   "metadata": {},
   "outputs": [],
   "source": [
    "info = []\n",
    "def extract_movie_info(driver):\n",
    "    movies = driver.find_elements(By.XPATH, '//*[@id=\"__next\"]/main/div/div[3]/section/div/div[2]/div/ul/li')\n",
    "    for movie in movies:\n",
    "        image_url = movie.find_element(By.XPATH, 'div[1]/div/div[2]/img').get_attribute('src')\n",
    "        title =movie.find_element(By.XPATH, 'div[2]/div/div/div[1]/a/h3').text.split('. ')[1:][0]\n",
    "        year = movie.find_element(By.XPATH, 'div[2]/div/div/div[2]/span[1]').text\n",
    "        duration = movie.find_element(By.XPATH,'div[2]/div/div/div[2]/span[2]').text\n",
    "        stars = movie.find_element(By.XPATH, 'div[2]/div/div/span/div/span/span[1]').text\n",
    "        people = movie.find_element(By.XPATH, 'div[2]/div/div/span/div/span/span[2]').text.replace('(','').replace(')','')\n",
    "        info.append([title, year, duration,stars, people,image_url])\n",
    "\n",
    "    driver.quit()"
   ]
  },
  {
   "cell_type": "markdown",
   "metadata": {},
   "source": [
    "### Execution"
   ]
  },
  {
   "cell_type": "code",
   "execution_count": 108,
   "metadata": {},
   "outputs": [],
   "source": [
    "url = 'https://www.imdb.com/chart/top/'\n",
    "driver = open_web_page(url)"
   ]
  },
  {
   "cell_type": "code",
   "execution_count": 109,
   "metadata": {},
   "outputs": [],
   "source": [
    "extract_movie_info(driver)"
   ]
  },
  {
   "cell_type": "code",
   "execution_count": 110,
   "metadata": {},
   "outputs": [],
   "source": [
    "df = pd.DataFrame(info, columns=['title', 'year', 'duration','stars', 'people','image_url'])"
   ]
  },
  {
   "cell_type": "code",
   "execution_count": 111,
   "metadata": {},
   "outputs": [
    {
     "data": {
      "text/html": [
       "<div>\n",
       "<style scoped>\n",
       "    .dataframe tbody tr th:only-of-type {\n",
       "        vertical-align: middle;\n",
       "    }\n",
       "\n",
       "    .dataframe tbody tr th {\n",
       "        vertical-align: top;\n",
       "    }\n",
       "\n",
       "    .dataframe thead th {\n",
       "        text-align: right;\n",
       "    }\n",
       "</style>\n",
       "<table border=\"1\" class=\"dataframe\">\n",
       "  <thead>\n",
       "    <tr style=\"text-align: right;\">\n",
       "      <th></th>\n",
       "      <th>title</th>\n",
       "      <th>year</th>\n",
       "      <th>duration</th>\n",
       "      <th>stars</th>\n",
       "      <th>people</th>\n",
       "      <th>image_url</th>\n",
       "    </tr>\n",
       "  </thead>\n",
       "  <tbody>\n",
       "    <tr>\n",
       "      <th>0</th>\n",
       "      <td>Cadena perpetua</td>\n",
       "      <td>1994</td>\n",
       "      <td>2h 22m</td>\n",
       "      <td>9,3</td>\n",
       "      <td>2,9 M</td>\n",
       "      <td>https://m.media-amazon.com/images/M/MV5BMTA1Mj...</td>\n",
       "    </tr>\n",
       "    <tr>\n",
       "      <th>1</th>\n",
       "      <td>El padrino</td>\n",
       "      <td>1972</td>\n",
       "      <td>2h 55m</td>\n",
       "      <td>9,2</td>\n",
       "      <td>2,1 M</td>\n",
       "      <td>https://m.media-amazon.com/images/M/MV5BNWYxYz...</td>\n",
       "    </tr>\n",
       "    <tr>\n",
       "      <th>2</th>\n",
       "      <td>El caballero oscuro</td>\n",
       "      <td>2008</td>\n",
       "      <td>2h 32m</td>\n",
       "      <td>9,0</td>\n",
       "      <td>2,9 M</td>\n",
       "      <td>https://m.media-amazon.com/images/M/MV5BMTMxNT...</td>\n",
       "    </tr>\n",
       "    <tr>\n",
       "      <th>3</th>\n",
       "      <td>El padrino parte II</td>\n",
       "      <td>1974</td>\n",
       "      <td>3h 22m</td>\n",
       "      <td>9,0</td>\n",
       "      <td>1,4 M</td>\n",
       "      <td>https://m.media-amazon.com/images/M/MV5BMjQ5Mz...</td>\n",
       "    </tr>\n",
       "    <tr>\n",
       "      <th>4</th>\n",
       "      <td>12 hombres sin piedad</td>\n",
       "      <td>1957</td>\n",
       "      <td>1h 36m</td>\n",
       "      <td>9,0</td>\n",
       "      <td>887 mil</td>\n",
       "      <td>https://m.media-amazon.com/images/M/MV5BYThhOG...</td>\n",
       "    </tr>\n",
       "  </tbody>\n",
       "</table>\n",
       "</div>"
      ],
      "text/plain": [
       "                   title  year duration stars    people  \\\n",
       "0        Cadena perpetua  1994   2h 22m   9,3     2,9 M   \n",
       "1             El padrino  1972   2h 55m   9,2     2,1 M   \n",
       "2    El caballero oscuro  2008   2h 32m   9,0     2,9 M   \n",
       "3    El padrino parte II  1974   3h 22m   9,0     1,4 M   \n",
       "4  12 hombres sin piedad  1957   1h 36m   9,0   887 mil   \n",
       "\n",
       "                                           image_url  \n",
       "0  https://m.media-amazon.com/images/M/MV5BMTA1Mj...  \n",
       "1  https://m.media-amazon.com/images/M/MV5BNWYxYz...  \n",
       "2  https://m.media-amazon.com/images/M/MV5BMTMxNT...  \n",
       "3  https://m.media-amazon.com/images/M/MV5BMjQ5Mz...  \n",
       "4  https://m.media-amazon.com/images/M/MV5BYThhOG...  "
      ]
     },
     "execution_count": 111,
     "metadata": {},
     "output_type": "execute_result"
    }
   ],
   "source": [
    "df.head()"
   ]
  },
  {
   "cell_type": "code",
   "execution_count": 112,
   "metadata": {},
   "outputs": [],
   "source": [
    "df.to_csv('data.csv')"
   ]
  }
 ],
 "metadata": {
  "kernelspec": {
   "display_name": ".venv",
   "language": "python",
   "name": "python3"
  },
  "language_info": {
   "codemirror_mode": {
    "name": "ipython",
    "version": 3
   },
   "file_extension": ".py",
   "mimetype": "text/x-python",
   "name": "python",
   "nbconvert_exporter": "python",
   "pygments_lexer": "ipython3",
   "version": "3.11.9"
  }
 },
 "nbformat": 4,
 "nbformat_minor": 2
}
