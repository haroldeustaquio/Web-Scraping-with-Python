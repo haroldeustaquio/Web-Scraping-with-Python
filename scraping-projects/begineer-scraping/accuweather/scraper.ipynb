{
 "cells": [
  {
   "cell_type": "markdown",
   "metadata": {},
   "source": [
    "### Importing Libraries"
   ]
  },
  {
   "cell_type": "code",
   "execution_count": 2,
   "metadata": {},
   "outputs": [],
   "source": [
    "from selenium import webdriver\n",
    "from selenium.webdriver.common.by import By\n",
    "from selenium.webdriver.chrome.service import Service\n",
    "from selenium.webdriver.chrome.options import Options\n",
    "import pandas as pd\n",
    "import numpy as np\n",
    "from webdriver_manager.chrome import ChromeDriverManager\n",
    "import time\n",
    "from selenium.webdriver.support.ui import WebDriverWait\n",
    "from selenium.webdriver.support import expected_conditions as EC"
   ]
  },
  {
   "cell_type": "markdown",
   "metadata": {},
   "source": [
    "### **`open_web_page`**\n",
    "\n",
    "The `open_web_page` function uses a Chrome driver (via Selenium) to access a webpage specified by the provided URL argument. This function launches a Google Chrome browser instance and opens the corresponding page."
   ]
  },
  {
   "cell_type": "code",
   "execution_count": 4,
   "metadata": {},
   "outputs": [],
   "source": [
    "def open_web_page(url):\n",
    "    chrome_options  = Options()\n",
    "    # chrome_options .add_argument('--headless')\n",
    "    driver = webdriver.Chrome(service=Service(ChromeDriverManager().install()), options=chrome_options) \n",
    "    driver.get(url)\n",
    "    return driver"
   ]
  },
  {
   "cell_type": "markdown",
   "metadata": {},
   "source": [
    "### **`extract_weather_info`**\n",
    "\n"
   ]
  },
  {
   "cell_type": "code",
   "execution_count": 5,
   "metadata": {},
   "outputs": [],
   "source": [
    "info_hurr = []\n",
    "def extract_hurr_info(driver):\n",
    "    # Click to hurricanes\n",
    "    click_hurricanes = '/html/body/div/div[6]/div[1]/div[2]/a[1]'\n",
    "    driver.find_element(By.XPATH,click_hurricanes).click()\n",
    "    time.sleep(5)\n",
    "    \n",
    "    click_see_all = '/html/body/div/div[7]/div[1]/div[1]/div[2]/div/a'\n",
    "    driver.find_element(By.XPATH,click_see_all).click()\n",
    "    time.sleep(5)\n",
    "    \n",
    "    click_show_more = '/html/body/div/div[7]/div[1]/div[1]/div[2]/div[4]'\n",
    "    driver.find_element(By.XPATH,click_show_more).click()\n",
    "    time.sleep(5)\n",
    "\n",
    "    rows = driver.find_elements(By.XPATH, '/html/body/div/div[7]/div[1]/div[1]/div[2]/div[3]/a')\n",
    "\n",
    "    info_hurr = []\n",
    "    for row in rows:\n",
    "        name = row.find_element(By.XPATH, './div[1]/div[2]').text\n",
    "        type = row.find_element(By.XPATH, './div[2]/div[1]').text\n",
    "        date = row.find_element(By.XPATH, './div[2]/div[2]').text\n",
    "        ocean = row.find_element(By.XPATH, './div[2]/div[3]').text\n",
    "        info_hurr.append([name, type, date, ocean])\n",
    "    \n",
    "    driver.back()\n",
    "    driver.back()"
   ]
  },
  {
   "cell_type": "code",
   "execution_count": 82,
   "metadata": {},
   "outputs": [],
   "source": [
    "info = []\n",
    "info_hurr = []\n",
    "\n",
    "def extract_weather_info(driver):\n",
    "    title = driver.find_element(By.XPATH,'/html/body/div/div[6]/div[1]/div[1]/div[1]/p').text.split('\\n')[0]\n",
    "    rows = driver.find_elements(By.XPATH,'/html/body/div/div[6]/div[1]/div[1]/div[1]/div/a')\n",
    "    \n",
    "    for row in rows:\n",
    "        city = row.find_element(By.XPATH,'span[1]').text\n",
    "        temp = row.find_element(By.XPATH,'span[2]').text\n",
    "        info.append([city,temp])\n",
    "    \n",
    "    # driver = extract_hurr_info(driver)\n",
    "    # time.sleep(5)\n",
    "    \n",
    "    driver.find_element(By.XPATH,'/html/body/div/div[6]/div[1]/div[1]/div[1]/p/a').click()\n",
    "    \n",
    "    row = driver.find_element(By.XPATH, '/html/body/div/div[7]/div[1]/div[1]/div[2]/a[1]')\n",
    "    \n",
    "    row.click()\n",
    "    return title, driver"
   ]
  },
  {
   "cell_type": "markdown",
   "metadata": {},
   "source": [
    "### Execution"
   ]
  },
  {
   "cell_type": "code",
   "execution_count": 6,
   "metadata": {},
   "outputs": [],
   "source": [
    "url = 'https://www.accuweather.com/'\n",
    "driver = open_web_page(url)"
   ]
  },
  {
   "cell_type": "code",
   "execution_count": 84,
   "metadata": {},
   "outputs": [],
   "source": [
    "title = extract_weather_info(driver)"
   ]
  },
  {
   "cell_type": "code",
   "execution_count": 49,
   "metadata": {},
   "outputs": [],
   "source": [
    "df = pd.DataFrame(info,columns=['city','temperature'])"
   ]
  },
  {
   "cell_type": "code",
   "execution_count": null,
   "metadata": {},
   "outputs": [],
   "source": [
    "info_per_place = []\n",
    "info_places = []\n",
    "driver.find_element(By.XPATH,'/html/body/div/div[6]/div[1]/div[1]/div[1]/p/a').click()\n",
    "time.sleep(3)\n",
    "print('entré')\n",
    "\n",
    "rows = driver.find_elements(By.XPATH, '/html/body/div/div[7]/div[1]/div[1]/div[2]/a')\n",
    "places = driver.find_elements(By.XPATH,'/html/body/div/div[7]/div[1]/div[1]/div[2]/a')\n",
    "\n",
    "for place in places:\n",
    "    info_places.append(place.text)\n",
    "\n",
    "for i,row in enumerate(rows):\n",
    "    place = places[i].text\n",
    "    row.click()\n",
    "    time.sleep(3)\n",
    "    \n",
    "    print('entré')\n",
    "    sub_rows = driver.find_elements(By.XPATH, '/html/body/div/div[7]/div[1]/div[1]/div[2]/a')\n",
    "    sub_places = driver.find_elements(By.XPATH,'/html/body/div/div[7]/div[1]/div[1]/div[2]/a')\n",
    "\n",
    "    for sub_place, sub_row in zip(sub_places,sub_rows):\n",
    "        \n",
    "        sub_row.click()\n",
    "        time.sleep(3)\n",
    "        \n",
    "        print('entré')\n",
    "        temp = driver.find_element(By.XPATH,'/html/body/div/div[7]/div[1]/div[1]/a[1]/div[2]/div[1]/div[1]/div/div[1]').text\n",
    "        real_feel = driver.find_element(By.XPATH,'/html/body/div/div[7]/div[1]/div[1]/a[1]/div[2]/div[1]/div[1]/div/div[2]').text.split()[1]\n",
    "        viento = driver.find_element(By.XPATH,'/html/body/div/div[7]/div[1]/div[1]/a[1]/div[2]/div[2]/div[2]/span[2]').text\n",
    "        cal_viento = driver.find_element(By.XPATH,'/html/body/div/div[7]/div[1]/div[1]/a[1]/div[2]/div[2]/div[3]/span[2]').text\n",
    "        raf_viento = driver.find_element(By.XPATH,'/html/body/div/div[7]/div[1]/div[1]/a[1]/div[2]/div[2]/div[2]/span[2]').text\n",
    "        prev_fut= driver.find_element(By.XPATH,'/html/body/div/div[7]/div[1]/div[1]/a[2]/p').text\n",
    "        \n",
    "        info_per_place.append([place.text, sub_place.text, temp,real_feel,viento, raf_viento, cal_aire, prev_fut])\n",
    "        driver.back()\n",
    "        time.sleep(2)\n",
    "    driver.back()\n",
    "    time.sleep(2)"
   ]
  },
  {
   "cell_type": "code",
   "execution_count": 54,
   "metadata": {},
   "outputs": [
    {
     "data": {
      "text/plain": [
       "'14 km/h'"
      ]
     },
     "execution_count": 54,
     "metadata": {},
     "output_type": "execute_result"
    }
   ],
   "source": [
    "cal_aire"
   ]
  },
  {
   "cell_type": "code",
   "execution_count": null,
   "metadata": {},
   "outputs": [],
   "source": [
    "driver.find_element(By.XPATH,'/html/body/div/div[7]/div[1]/div[1]/a[1]/div[2]/div[2]/div[2]/span[2]').text"
   ]
  },
  {
   "cell_type": "code",
   "execution_count": null,
   "metadata": {},
   "outputs": [],
   "source": [
    "sub_rows[1].text"
   ]
  },
  {
   "cell_type": "code",
   "execution_count": null,
   "metadata": {},
   "outputs": [],
   "source": [
    "for place,row in zip(places,rows):\n",
    "    print(row.get_attribute('href'))"
   ]
  },
  {
   "cell_type": "code",
   "execution_count": null,
   "metadata": {},
   "outputs": [],
   "source": [
    "name = driver.find_element(By.XPATH,'/html/body/div/div[7]/div[1]/div[1]/div[2]/a[1]').text\n",
    "name"
   ]
  },
  {
   "cell_type": "code",
   "execution_count": null,
   "metadata": {},
   "outputs": [],
   "source": [
    "temp = driver.find_element(By.XPATH,'/html/body/div/div[7]/div[1]/div[1]/a[1]/div[2]/div[1]/div[1]/div/div[1]').text\n",
    "real_feel = driver.find_element(By.XPATH,'/html/body/div/div[7]/div[1]/div[1]/a[1]/div[2]/div[1]/div[1]/div/div[2]').text.split()[1]\n",
    "viento = driver.find_element(By.XPATH,'/html/body/div/div[7]/div[1]/div[1]/a[1]/div[2]/div[2]/div[2]/span[2]').text\n",
    "raf_viento = driver.find_element(By.XPATH,'/html/body/div/div[7]/div[1]/div[1]/a[1]/div[2]/div[2]/div[3]/span[2]').text\n",
    "cal_aire = driver.find_element(By.XPATH,'/html/body/div/div[7]/div[1]/div[1]/a[1]/div[2]/div[2]/div[4]/span[2]').text\n",
    "prev_fut= driver.find_element(By.XPATH,'/html/body/div/div[7]/div[1]/div[1]/a[2]/p').text\n",
    "\n"
   ]
  },
  {
   "cell_type": "code",
   "execution_count": null,
   "metadata": {},
   "outputs": [],
   "source": []
  },
  {
   "cell_type": "code",
   "execution_count": null,
   "metadata": {},
   "outputs": [],
   "source": []
  },
  {
   "cell_type": "code",
   "execution_count": null,
   "metadata": {},
   "outputs": [],
   "source": []
  },
  {
   "cell_type": "code",
   "execution_count": null,
   "metadata": {},
   "outputs": [],
   "source": []
  },
  {
   "cell_type": "code",
   "execution_count": 53,
   "metadata": {},
   "outputs": [],
   "source": [
    "df_hurr= pd.DataFrame(info_hurr,columns=['name', 'type','date','ocean'])"
   ]
  },
  {
   "cell_type": "code",
   "execution_count": null,
   "metadata": {},
   "outputs": [],
   "source": [
    "df_hurr.head()"
   ]
  },
  {
   "cell_type": "code",
   "execution_count": 54,
   "metadata": {},
   "outputs": [],
   "source": [
    "df_hurr.to_csv('hurricane_info.csv')"
   ]
  }
 ],
 "metadata": {
  "kernelspec": {
   "display_name": ".venv",
   "language": "python",
   "name": "python3"
  },
  "language_info": {
   "codemirror_mode": {
    "name": "ipython",
    "version": 3
   },
   "file_extension": ".py",
   "mimetype": "text/x-python",
   "name": "python",
   "nbconvert_exporter": "python",
   "pygments_lexer": "ipython3",
   "version": "3.11.9"
  }
 },
 "nbformat": 4,
 "nbformat_minor": 2
}
