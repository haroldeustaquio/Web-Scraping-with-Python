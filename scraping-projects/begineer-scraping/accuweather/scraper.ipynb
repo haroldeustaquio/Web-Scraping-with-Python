{
 "cells": [
  {
   "cell_type": "markdown",
   "metadata": {},
   "source": [
    "### Importing Libraries"
   ]
  },
  {
   "cell_type": "code",
   "execution_count": 33,
   "metadata": {},
   "outputs": [],
   "source": [
    "from selenium import webdriver\n",
    "from selenium.webdriver.common.by import By\n",
    "import pandas as pd\n",
    "import numpy as np"
   ]
  },
  {
   "cell_type": "markdown",
   "metadata": {},
   "source": [
    "### **`open_web_page`**\n",
    "\n",
    "The `open_web_page` function uses a Chrome driver (via Selenium) to access a webpage specified by the provided URL argument. This function launches a Google Chrome browser instance and opens the corresponding page."
   ]
  },
  {
   "cell_type": "code",
   "execution_count": 34,
   "metadata": {},
   "outputs": [],
   "source": [
    "def open_web_page(url):\n",
    "    driver = webdriver.Chrome() \n",
    "    driver.get(url)\n",
    "    return driver"
   ]
  },
  {
   "cell_type": "markdown",
   "metadata": {},
   "source": [
    "### **`extract_weather_info`**\n",
    "\n"
   ]
  },
  {
   "cell_type": "code",
   "execution_count": 35,
   "metadata": {},
   "outputs": [],
   "source": [
    "info = []\n",
    "def extract_weather_info(driver):\n",
    "    title = driver.find_element(By.XPATH,'/html/body/div/div[6]/div[1]/div[1]/div[1]/p').text.split('\\n')[0]\n",
    "    more_info_url = driver.find_element(By.XPATH,'/html/body/div/div[6]/div[1]/div[1]/div[1]/p/a').get_attribute('href')\n",
    "    hurricanes = driver.find_element(By.XPATH,'/html/body/div/div[6]/div[1]/div[2]/a[1]').get_attribute('href')\n",
    "    rows = driver.find_elements(By.XPATH,'/html/body/div/div[6]/div[1]/div[1]/div[1]/div/a')\n",
    "    \n",
    "    for row in rows:\n",
    "        city = row.find_element(By.XPATH,'span[1]').text\n",
    "        temp = row.find_element(By.XPATH,'span[2]').text\n",
    "        info.append([city,temp])\n",
    "    driver.quit()\n",
    "    return title, more_info_url,hurricanes"
   ]
  },
  {
   "cell_type": "markdown",
   "metadata": {},
   "source": [
    "### Execution"
   ]
  },
  {
   "cell_type": "code",
   "execution_count": 36,
   "metadata": {},
   "outputs": [],
   "source": [
    "url = 'https://www.accuweather.com/'\n",
    "driver = open_web_page(url)"
   ]
  },
  {
   "cell_type": "code",
   "execution_count": 37,
   "metadata": {},
   "outputs": [],
   "source": [
    "title, more_info_url,hurricanes = extract_weather_info(driver)"
   ]
  },
  {
   "cell_type": "code",
   "execution_count": 38,
   "metadata": {},
   "outputs": [],
   "source": [
    "df = pd.DataFrame(info,columns=['city','temperature'])"
   ]
  },
  {
   "cell_type": "code",
   "execution_count": 39,
   "metadata": {},
   "outputs": [
    {
     "name": "stdout",
     "output_type": "stream",
     "text": [
      "CONDICIONES METEOROLÓGICAS EN MÉXICO\n",
      "\n"
     ]
    },
    {
     "data": {
      "text/html": [
       "<div>\n",
       "<style scoped>\n",
       "    .dataframe tbody tr th:only-of-type {\n",
       "        vertical-align: middle;\n",
       "    }\n",
       "\n",
       "    .dataframe tbody tr th {\n",
       "        vertical-align: top;\n",
       "    }\n",
       "\n",
       "    .dataframe thead th {\n",
       "        text-align: right;\n",
       "    }\n",
       "</style>\n",
       "<table border=\"1\" class=\"dataframe\">\n",
       "  <thead>\n",
       "    <tr style=\"text-align: right;\">\n",
       "      <th></th>\n",
       "      <th>city</th>\n",
       "      <th>temperature</th>\n",
       "    </tr>\n",
       "  </thead>\n",
       "  <tbody>\n",
       "    <tr>\n",
       "      <th>0</th>\n",
       "      <td>Aguascalientes</td>\n",
       "      <td>26°</td>\n",
       "    </tr>\n",
       "    <tr>\n",
       "      <th>1</th>\n",
       "      <td>Campeche</td>\n",
       "      <td>26°</td>\n",
       "    </tr>\n",
       "    <tr>\n",
       "      <th>2</th>\n",
       "      <td>Chihuahua</td>\n",
       "      <td>30°</td>\n",
       "    </tr>\n",
       "    <tr>\n",
       "      <th>3</th>\n",
       "      <td>Ciudad de México</td>\n",
       "      <td>22°</td>\n",
       "    </tr>\n",
       "    <tr>\n",
       "      <th>4</th>\n",
       "      <td>Ciudad Nezahualcóyotl</td>\n",
       "      <td>22°</td>\n",
       "    </tr>\n",
       "    <tr>\n",
       "      <th>5</th>\n",
       "      <td>Ciudad Victoria</td>\n",
       "      <td>30°</td>\n",
       "    </tr>\n",
       "    <tr>\n",
       "      <th>6</th>\n",
       "      <td>Ecatepec de Morelos</td>\n",
       "      <td>22°</td>\n",
       "    </tr>\n",
       "    <tr>\n",
       "      <th>7</th>\n",
       "      <td>Guadalajara</td>\n",
       "      <td>26°</td>\n",
       "    </tr>\n",
       "    <tr>\n",
       "      <th>8</th>\n",
       "      <td>Gustavo A. Madero</td>\n",
       "      <td>22°</td>\n",
       "    </tr>\n",
       "    <tr>\n",
       "      <th>9</th>\n",
       "      <td>Heroica Puebla de Zaragoza</td>\n",
       "      <td>21°</td>\n",
       "    </tr>\n",
       "    <tr>\n",
       "      <th>10</th>\n",
       "      <td>Iztapalapa</td>\n",
       "      <td>21°</td>\n",
       "    </tr>\n",
       "    <tr>\n",
       "      <th>11</th>\n",
       "      <td>Juárez</td>\n",
       "      <td>29°</td>\n",
       "    </tr>\n",
       "    <tr>\n",
       "      <th>12</th>\n",
       "      <td>León</td>\n",
       "      <td>25°</td>\n",
       "    </tr>\n",
       "    <tr>\n",
       "      <th>13</th>\n",
       "      <td>León de los Aldama</td>\n",
       "      <td>25°</td>\n",
       "    </tr>\n",
       "    <tr>\n",
       "      <th>14</th>\n",
       "      <td>Mexicali</td>\n",
       "      <td>36°</td>\n",
       "    </tr>\n",
       "    <tr>\n",
       "      <th>15</th>\n",
       "      <td>Monterrey</td>\n",
       "      <td>31°</td>\n",
       "    </tr>\n",
       "    <tr>\n",
       "      <th>16</th>\n",
       "      <td>Nezahualcóyotl</td>\n",
       "      <td>22°</td>\n",
       "    </tr>\n",
       "    <tr>\n",
       "      <th>17</th>\n",
       "      <td>Puebla</td>\n",
       "      <td>21°</td>\n",
       "    </tr>\n",
       "    <tr>\n",
       "      <th>18</th>\n",
       "      <td>Tijuana</td>\n",
       "      <td>21°</td>\n",
       "    </tr>\n",
       "    <tr>\n",
       "      <th>19</th>\n",
       "      <td>Zapopan</td>\n",
       "      <td>26°</td>\n",
       "    </tr>\n",
       "  </tbody>\n",
       "</table>\n",
       "</div>"
      ],
      "text/plain": [
       "                          city temperature\n",
       "0               Aguascalientes         26°\n",
       "1                     Campeche         26°\n",
       "2                    Chihuahua         30°\n",
       "3             Ciudad de México         22°\n",
       "4        Ciudad Nezahualcóyotl         22°\n",
       "5              Ciudad Victoria         30°\n",
       "6          Ecatepec de Morelos         22°\n",
       "7                  Guadalajara         26°\n",
       "8            Gustavo A. Madero         22°\n",
       "9   Heroica Puebla de Zaragoza         21°\n",
       "10                  Iztapalapa         21°\n",
       "11                      Juárez         29°\n",
       "12                        León         25°\n",
       "13          León de los Aldama         25°\n",
       "14                    Mexicali         36°\n",
       "15                   Monterrey         31°\n",
       "16              Nezahualcóyotl         22°\n",
       "17                      Puebla         21°\n",
       "18                     Tijuana         21°\n",
       "19                     Zapopan         26°"
      ]
     },
     "execution_count": 39,
     "metadata": {},
     "output_type": "execute_result"
    }
   ],
   "source": [
    "print(f'{title}\\n')\n",
    "df"
   ]
  },
  {
   "cell_type": "code",
   "execution_count": null,
   "metadata": {},
   "outputs": [],
   "source": []
  },
  {
   "cell_type": "code",
   "execution_count": 40,
   "metadata": {},
   "outputs": [],
   "source": [
    "driver2 = open_web_page(more_info_url)"
   ]
  }
 ],
 "metadata": {
  "kernelspec": {
   "display_name": ".venv",
   "language": "python",
   "name": "python3"
  },
  "language_info": {
   "codemirror_mode": {
    "name": "ipython",
    "version": 3
   },
   "file_extension": ".py",
   "mimetype": "text/x-python",
   "name": "python",
   "nbconvert_exporter": "python",
   "pygments_lexer": "ipython3",
   "version": "3.11.9"
  }
 },
 "nbformat": 4,
 "nbformat_minor": 2
}
