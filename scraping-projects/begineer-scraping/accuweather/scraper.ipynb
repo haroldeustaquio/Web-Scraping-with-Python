{
 "cells": [
  {
   "cell_type": "markdown",
   "metadata": {},
   "source": [
    "### Importing Libraries"
   ]
  },
  {
   "cell_type": "code",
   "execution_count": 23,
   "metadata": {},
   "outputs": [],
   "source": [
    "from selenium import webdriver\n",
    "from selenium.webdriver.common.by import By\n",
    "import pandas as pd\n",
    "import numpy as np"
   ]
  },
  {
   "cell_type": "markdown",
   "metadata": {},
   "source": [
    "### **`open_web_page`**\n",
    "\n",
    "The `open_web_page` function uses a Chrome driver (via Selenium) to access a webpage specified by the provided URL argument. This function launches a Google Chrome browser instance and opens the corresponding page."
   ]
  },
  {
   "cell_type": "code",
   "execution_count": 24,
   "metadata": {},
   "outputs": [],
   "source": [
    "def open_web_page(url):\n",
    "    driver = webdriver.Chrome() \n",
    "    driver.get(url)\n",
    "    return driver"
   ]
  },
  {
   "cell_type": "markdown",
   "metadata": {},
   "source": [
    "### **`extract_weather_info`**\n",
    "\n"
   ]
  },
  {
   "cell_type": "code",
   "execution_count": 25,
   "metadata": {},
   "outputs": [],
   "source": [
    "info = []\n",
    "def extract_weather_info(driver):\n",
    "    title = driver.find_element(By.XPATH,'/html/body/div/div[6]/div[1]/div[1]/div[1]/p').text.split('\\n')[0]\n",
    "    more_info_url = driver.find_element(By.XPATH,'/html/body/div/div[6]/div[1]/div[1]/div[1]/p/a').get_attribute('href')\n",
    "    hurricanes = driver.find_element(By.XPATH,'/html/body/div/div[6]/div[1]/div[2]/a[1]').get_attribute('href')\n",
    "    rows = driver.find_elements(By.XPATH,'/html/body/div/div[6]/div[1]/div[1]/div[1]/div/a')\n",
    "    \n",
    "    for row in rows:\n",
    "        city = row.find_element(By.XPATH,'span[1]').text\n",
    "        temp = row.find_element(By.XPATH,'span[2]').text\n",
    "        info.append([city,temp])\n",
    "    driver.quit()\n",
    "    return title, more_info_url,hurricanes"
   ]
  },
  {
   "cell_type": "code",
   "execution_count": 26,
   "metadata": {},
   "outputs": [],
   "source": [
    "info_hurr = []\n",
    "def extract_hurr_info(driver):\n",
    "    see_more = driver.find_element(By.XPATH, '/html/body/div/div[7]/div[1]/div[1]/div[2]/div/a').get_attribute('href')\n",
    "    driver_temp = open_web_page(see_more)\n",
    "    driver_temp.find_element(By.XPATH,'/html/body/div/div[7]/div[1]/div[1]/div[2]/div[4]').click()\n",
    "    \n",
    "    rows = driver_temp.find_elements(By.XPATH, '/html/body/div/div[7]/div[1]/div[1]/div[2]/div[3]/a')\n",
    "\n",
    "    for row in rows:\n",
    "        name = row.find_element(By.XPATH,'div[1]/div[2]').text\n",
    "        type = row.find_element(By.XPATH,'div[2]/div[1]').text\n",
    "        date = row.find_element(By.XPATH,'div[2]/div[2]').text\n",
    "        ocean = row.find_element(By.XPATH,'div[2]/div[3]').text\n",
    "        info_hurr.append([name, type,date,ocean])\n",
    "    driver_temp.quit()\n",
    "    driver.quit()"
   ]
  },
  {
   "cell_type": "markdown",
   "metadata": {},
   "source": [
    "### Execution"
   ]
  },
  {
   "cell_type": "code",
   "execution_count": 27,
   "metadata": {},
   "outputs": [],
   "source": [
    "url = 'https://www.accuweather.com/'\n",
    "driver = open_web_page(url)"
   ]
  },
  {
   "cell_type": "code",
   "execution_count": 28,
   "metadata": {},
   "outputs": [],
   "source": [
    "title, more_info_url,hurricanes = extract_weather_info(driver)"
   ]
  },
  {
   "cell_type": "code",
   "execution_count": 29,
   "metadata": {},
   "outputs": [],
   "source": [
    "df = pd.DataFrame(info,columns=['city','temperature'])"
   ]
  },
  {
   "cell_type": "code",
   "execution_count": 30,
   "metadata": {},
   "outputs": [
    {
     "name": "stdout",
     "output_type": "stream",
     "text": [
      "CONDICIONES METEOROLÓGICAS EN MÉXICO\n",
      "\n"
     ]
    },
    {
     "data": {
      "text/html": [
       "<div>\n",
       "<style scoped>\n",
       "    .dataframe tbody tr th:only-of-type {\n",
       "        vertical-align: middle;\n",
       "    }\n",
       "\n",
       "    .dataframe tbody tr th {\n",
       "        vertical-align: top;\n",
       "    }\n",
       "\n",
       "    .dataframe thead th {\n",
       "        text-align: right;\n",
       "    }\n",
       "</style>\n",
       "<table border=\"1\" class=\"dataframe\">\n",
       "  <thead>\n",
       "    <tr style=\"text-align: right;\">\n",
       "      <th></th>\n",
       "      <th>city</th>\n",
       "      <th>temperature</th>\n",
       "    </tr>\n",
       "  </thead>\n",
       "  <tbody>\n",
       "    <tr>\n",
       "      <th>0</th>\n",
       "      <td>Aguascalientes</td>\n",
       "      <td>26°</td>\n",
       "    </tr>\n",
       "    <tr>\n",
       "      <th>1</th>\n",
       "      <td>Campeche</td>\n",
       "      <td>26°</td>\n",
       "    </tr>\n",
       "    <tr>\n",
       "      <th>2</th>\n",
       "      <td>Chihuahua</td>\n",
       "      <td>31°</td>\n",
       "    </tr>\n",
       "    <tr>\n",
       "      <th>3</th>\n",
       "      <td>Ciudad de México</td>\n",
       "      <td>23°</td>\n",
       "    </tr>\n",
       "    <tr>\n",
       "      <th>4</th>\n",
       "      <td>Ciudad Nezahualcóyotl</td>\n",
       "      <td>24°</td>\n",
       "    </tr>\n",
       "    <tr>\n",
       "      <th>5</th>\n",
       "      <td>Ciudad Victoria</td>\n",
       "      <td>31°</td>\n",
       "    </tr>\n",
       "    <tr>\n",
       "      <th>6</th>\n",
       "      <td>Ecatepec de Morelos</td>\n",
       "      <td>23°</td>\n",
       "    </tr>\n",
       "    <tr>\n",
       "      <th>7</th>\n",
       "      <td>Guadalajara</td>\n",
       "      <td>27°</td>\n",
       "    </tr>\n",
       "    <tr>\n",
       "      <th>8</th>\n",
       "      <td>Gustavo A. Madero</td>\n",
       "      <td>23°</td>\n",
       "    </tr>\n",
       "    <tr>\n",
       "      <th>9</th>\n",
       "      <td>Heroica Puebla de Zaragoza</td>\n",
       "      <td>24°</td>\n",
       "    </tr>\n",
       "    <tr>\n",
       "      <th>10</th>\n",
       "      <td>Iztapalapa</td>\n",
       "      <td>24°</td>\n",
       "    </tr>\n",
       "    <tr>\n",
       "      <th>11</th>\n",
       "      <td>Juárez</td>\n",
       "      <td>32°</td>\n",
       "    </tr>\n",
       "    <tr>\n",
       "      <th>12</th>\n",
       "      <td>León</td>\n",
       "      <td>27°</td>\n",
       "    </tr>\n",
       "    <tr>\n",
       "      <th>13</th>\n",
       "      <td>León de los Aldama</td>\n",
       "      <td>27°</td>\n",
       "    </tr>\n",
       "    <tr>\n",
       "      <th>14</th>\n",
       "      <td>Mexicali</td>\n",
       "      <td>32°</td>\n",
       "    </tr>\n",
       "    <tr>\n",
       "      <th>15</th>\n",
       "      <td>Monterrey</td>\n",
       "      <td>31°</td>\n",
       "    </tr>\n",
       "    <tr>\n",
       "      <th>16</th>\n",
       "      <td>Nezahualcóyotl</td>\n",
       "      <td>24°</td>\n",
       "    </tr>\n",
       "    <tr>\n",
       "      <th>17</th>\n",
       "      <td>Puebla</td>\n",
       "      <td>24°</td>\n",
       "    </tr>\n",
       "    <tr>\n",
       "      <th>18</th>\n",
       "      <td>Tijuana</td>\n",
       "      <td>19°</td>\n",
       "    </tr>\n",
       "    <tr>\n",
       "      <th>19</th>\n",
       "      <td>Zapopan</td>\n",
       "      <td>28°</td>\n",
       "    </tr>\n",
       "  </tbody>\n",
       "</table>\n",
       "</div>"
      ],
      "text/plain": [
       "                          city temperature\n",
       "0               Aguascalientes         26°\n",
       "1                     Campeche         26°\n",
       "2                    Chihuahua         31°\n",
       "3             Ciudad de México         23°\n",
       "4        Ciudad Nezahualcóyotl         24°\n",
       "5              Ciudad Victoria         31°\n",
       "6          Ecatepec de Morelos         23°\n",
       "7                  Guadalajara         27°\n",
       "8            Gustavo A. Madero         23°\n",
       "9   Heroica Puebla de Zaragoza         24°\n",
       "10                  Iztapalapa         24°\n",
       "11                      Juárez         32°\n",
       "12                        León         27°\n",
       "13          León de los Aldama         27°\n",
       "14                    Mexicali         32°\n",
       "15                   Monterrey         31°\n",
       "16              Nezahualcóyotl         24°\n",
       "17                      Puebla         24°\n",
       "18                     Tijuana         19°\n",
       "19                     Zapopan         28°"
      ]
     },
     "execution_count": 30,
     "metadata": {},
     "output_type": "execute_result"
    }
   ],
   "source": [
    "print(f'{title}\\n')\n",
    "df"
   ]
  },
  {
   "cell_type": "code",
   "execution_count": 31,
   "metadata": {},
   "outputs": [],
   "source": [
    "driver_2 = open_web_page(hurricanes)"
   ]
  },
  {
   "cell_type": "code",
   "execution_count": 32,
   "metadata": {},
   "outputs": [],
   "source": [
    "extract_hurr_info(driver_2)"
   ]
  },
  {
   "cell_type": "code",
   "execution_count": 35,
   "metadata": {},
   "outputs": [],
   "source": [
    "df_hurr= pd.DataFrame(info_hurr,columns=['name', 'type','date','ocean'])"
   ]
  },
  {
   "cell_type": "code",
   "execution_count": 37,
   "metadata": {},
   "outputs": [],
   "source": [
    "df_hurr.to_csv('hurricane_info.csv')"
   ]
  }
 ],
 "metadata": {
  "kernelspec": {
   "display_name": ".venv",
   "language": "python",
   "name": "python3"
  },
  "language_info": {
   "codemirror_mode": {
    "name": "ipython",
    "version": 3
   },
   "file_extension": ".py",
   "mimetype": "text/x-python",
   "name": "python",
   "nbconvert_exporter": "python",
   "pygments_lexer": "ipython3",
   "version": "3.11.9"
  }
 },
 "nbformat": 4,
 "nbformat_minor": 2
}
