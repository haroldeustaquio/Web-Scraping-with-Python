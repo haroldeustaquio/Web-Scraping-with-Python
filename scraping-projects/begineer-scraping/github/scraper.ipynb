{
 "cells": [
  {
   "cell_type": "code",
   "execution_count": 133,
   "metadata": {},
   "outputs": [],
   "source": [
    "from selenium import webdriver\n",
    "from selenium.webdriver.common.by import By\n",
    "from selenium.webdriver.common.keys import Keys\n",
    "from selenium.webdriver.support.ui import WebDriverWait\n",
    "from selenium.webdriver.support import expected_conditions as EC\n",
    "import pandas as pd\n",
    "import numpy as np"
   ]
  },
  {
   "cell_type": "markdown",
   "metadata": {},
   "source": [
    "### `open_web_page`\n",
    "\n",
    "The `open_web_page` function uses a Chrome driver (via Selenium) to access a webpage specified by the provided URL argument. This function launches a Google Chrome browser instance and opens the corresponding page."
   ]
  },
  {
   "cell_type": "code",
   "execution_count": 134,
   "metadata": {},
   "outputs": [],
   "source": [
    "def open_web_page(url):\n",
    "    driver = webdriver.Chrome() \n",
    "    driver.get(url)\n",
    "    return driver"
   ]
  },
  {
   "cell_type": "markdown",
   "metadata": {},
   "source": [
    "### `handling_with_missing_info`\n",
    "\n",
    "This function handles the extraction of text data from a web element, specifically when scraping data from a website using Selenium. If the element specified by the given XPath exists, the function will return its text. If not, it returns `NaN` to handle missing information gracefully."
   ]
  },
  {
   "cell_type": "code",
   "execution_count": null,
   "metadata": {},
   "outputs": [],
   "source": [
    "def handling_with_missing_info(repos,xpath):\n",
    "    try:\n",
    "        return repos.find_element(By.XPATH,xpath).text\n",
    "    except:\n",
    "        return np.nan"
   ]
  },
  {
   "cell_type": "markdown",
   "metadata": {},
   "source": [
    "### `info_from_user`\n",
    "\n",
    "This function scrapes a user's profile and repository information from a webpage using Selenium. It extracts the user's full name and description, followed by scraping multiple details about their repositories such as name, URL, description, programming language, stars, forks, license, and last update time. The collected data is appended to two lists: `user_info` and `repos_info`.\n"
   ]
  },
  {
   "cell_type": "code",
   "execution_count": 135,
   "metadata": {},
   "outputs": [],
   "source": [
    "repos_info = []\n",
    "user_info = []\n",
    "\n",
    "def info_from_user(driver):\n",
    "    description = driver.find_element(By.XPATH,'/html/body/div[1]/div[4]/main/div[2]/div/div[1]/div/div[2]/div[3]/div[2]/div[1]/div').text\n",
    "    full_name = driver.find_element(By.XPATH,'//*/div/div[1]/div/div[2]/div[1]/div[2]/h1/span[1]').text\n",
    "    user_info.append([full_name,description])\n",
    "\n",
    "    repos = driver.find_elements(By.XPATH,'/html/body/div[1]/div[4]/main/div[2]/div/div[2]/turbo-frame/div/div[2]/ul/li')\n",
    "    for repo in repos:\n",
    "        repo_name = handling_with_missing_info(repo,'div[1]/div[1]/h3/a')\n",
    "        repo_url = repo.find_element(By.XPATH,'div[1]/div[1]/h3/a').get_attribute('href')\n",
    "        repo_desc = handling_with_missing_info(repo,'div[1]/div[2]/p')\n",
    "        repo_lenguaje = handling_with_missing_info(repo,'div[1]//span[1]/span[2]')\n",
    "        stars = handling_with_missing_info(repo,'div[1]/div[4]/a[1]')\n",
    "        forks = handling_with_missing_info(repo,\"div[1]/div[@class='f6 color-fg-muted mt-2']/a[2]\")\n",
    "        license = handling_with_missing_info(repo,'div[1]/div[4]/span[2]')\n",
    "        last_update = repo.find_element(By.XPATH,'div[1]//relative-time').get_attribute('title')\n",
    "        repos_info.append([repo_name,repo_url,repo_desc,repo_lenguaje,stars,forks,license,last_update])\n",
    "    driver.quit()"
   ]
  },
  {
   "cell_type": "markdown",
   "metadata": {},
   "source": [
    "### `Execution`"
   ]
  },
  {
   "cell_type": "code",
   "execution_count": 136,
   "metadata": {},
   "outputs": [],
   "source": [
    "user = 'haroldeustaquio'\n",
    "url = f'https://github.com/{user}?tab=repositories'\n",
    "driver = open_web_page(url)\n",
    "info_from_user(driver)"
   ]
  },
  {
   "cell_type": "code",
   "execution_count": 137,
   "metadata": {},
   "outputs": [],
   "source": [
    "df_info = pd.DataFrame(user_info,columns=['full_name','description'])\n",
    "df_repos = pd.DataFrame(repos_info,columns=['repo_name','repo_url','repo_desc','repo_lenguaje','stars','forks','license','last_update'])"
   ]
  },
  {
   "cell_type": "code",
   "execution_count": 140,
   "metadata": {},
   "outputs": [],
   "source": [
    "df_info.to_csv('user_info.csv')\n",
    "df_repos.to_csv('repos_info.csv')"
   ]
  },
  {
   "cell_type": "code",
   "execution_count": 138,
   "metadata": {},
   "outputs": [
    {
     "data": {
      "text/html": [
       "<div>\n",
       "<style scoped>\n",
       "    .dataframe tbody tr th:only-of-type {\n",
       "        vertical-align: middle;\n",
       "    }\n",
       "\n",
       "    .dataframe tbody tr th {\n",
       "        vertical-align: top;\n",
       "    }\n",
       "\n",
       "    .dataframe thead th {\n",
       "        text-align: right;\n",
       "    }\n",
       "</style>\n",
       "<table border=\"1\" class=\"dataframe\">\n",
       "  <thead>\n",
       "    <tr style=\"text-align: right;\">\n",
       "      <th></th>\n",
       "      <th>full_name</th>\n",
       "      <th>description</th>\n",
       "    </tr>\n",
       "  </thead>\n",
       "  <tbody>\n",
       "    <tr>\n",
       "      <th>0</th>\n",
       "      <td>Harold Eustaquio</td>\n",
       "      <td>Electronic and Computer Engineering student, p...</td>\n",
       "    </tr>\n",
       "  </tbody>\n",
       "</table>\n",
       "</div>"
      ],
      "text/plain": [
       "          full_name                                        description\n",
       "0  Harold Eustaquio  Electronic and Computer Engineering student, p..."
      ]
     },
     "execution_count": 138,
     "metadata": {},
     "output_type": "execute_result"
    }
   ],
   "source": [
    "df_info"
   ]
  },
  {
   "cell_type": "code",
   "execution_count": 139,
   "metadata": {},
   "outputs": [
    {
     "data": {
      "text/html": [
       "<div>\n",
       "<style scoped>\n",
       "    .dataframe tbody tr th:only-of-type {\n",
       "        vertical-align: middle;\n",
       "    }\n",
       "\n",
       "    .dataframe tbody tr th {\n",
       "        vertical-align: top;\n",
       "    }\n",
       "\n",
       "    .dataframe thead th {\n",
       "        text-align: right;\n",
       "    }\n",
       "</style>\n",
       "<table border=\"1\" class=\"dataframe\">\n",
       "  <thead>\n",
       "    <tr style=\"text-align: right;\">\n",
       "      <th></th>\n",
       "      <th>repo_name</th>\n",
       "      <th>repo_url</th>\n",
       "      <th>repo_desc</th>\n",
       "      <th>repo_lenguaje</th>\n",
       "      <th>stars</th>\n",
       "      <th>forks</th>\n",
       "      <th>license</th>\n",
       "      <th>last_update</th>\n",
       "    </tr>\n",
       "  </thead>\n",
       "  <tbody>\n",
       "    <tr>\n",
       "      <th>0</th>\n",
       "      <td>SQL-Coding-Challenges</td>\n",
       "      <td>https://github.com/haroldeustaquio/SQL-Coding-...</td>\n",
       "      <td>Repository dedicated to solving SQL problems f...</td>\n",
       "      <td>TSQL</td>\n",
       "      <td>5</td>\n",
       "      <td>1</td>\n",
       "      <td>MIT License</td>\n",
       "      <td>Oct 13, 2024, 3:10 PM CST</td>\n",
       "    </tr>\n",
       "    <tr>\n",
       "      <th>1</th>\n",
       "      <td>Python-Coding-Challenges</td>\n",
       "      <td>https://github.com/haroldeustaquio/Python-Codi...</td>\n",
       "      <td>Repository dedicated to solving Python problem...</td>\n",
       "      <td>Jupyter Notebook</td>\n",
       "      <td>6</td>\n",
       "      <td>NaN</td>\n",
       "      <td>MIT License</td>\n",
       "      <td>Oct 13, 2024, 5:00 AM CST</td>\n",
       "    </tr>\n",
       "    <tr>\n",
       "      <th>2</th>\n",
       "      <td>Melody-Lyric-Generator-from-Sheet-Music</td>\n",
       "      <td>https://github.com/haroldeustaquio/Melody-Lyri...</td>\n",
       "      <td>NaN</td>\n",
       "      <td>Python</td>\n",
       "      <td>NaN</td>\n",
       "      <td>1</td>\n",
       "      <td>NaN</td>\n",
       "      <td>Oct 13, 2024, 2:31 AM CST</td>\n",
       "    </tr>\n",
       "    <tr>\n",
       "      <th>3</th>\n",
       "      <td>Machine-Learning</td>\n",
       "      <td>https://github.com/haroldeustaquio/Machine-Lea...</td>\n",
       "      <td>This repository contains Machine Learning mini...</td>\n",
       "      <td>Jupyter Notebook</td>\n",
       "      <td>6</td>\n",
       "      <td>NaN</td>\n",
       "      <td>MIT License</td>\n",
       "      <td>Oct 13, 2024, 2:13 AM CST</td>\n",
       "    </tr>\n",
       "    <tr>\n",
       "      <th>4</th>\n",
       "      <td>Web-Scraping-with-Python</td>\n",
       "      <td>https://github.com/haroldeustaquio/Web-Scrapin...</td>\n",
       "      <td>NaN</td>\n",
       "      <td>Jupyter Notebook</td>\n",
       "      <td>NaN</td>\n",
       "      <td>NaN</td>\n",
       "      <td>NaN</td>\n",
       "      <td>Oct 12, 2024, 11:51 PM CST</td>\n",
       "    </tr>\n",
       "  </tbody>\n",
       "</table>\n",
       "</div>"
      ],
      "text/plain": [
       "                                 repo_name  \\\n",
       "0                    SQL-Coding-Challenges   \n",
       "1                 Python-Coding-Challenges   \n",
       "2  Melody-Lyric-Generator-from-Sheet-Music   \n",
       "3                         Machine-Learning   \n",
       "4                 Web-Scraping-with-Python   \n",
       "\n",
       "                                            repo_url  \\\n",
       "0  https://github.com/haroldeustaquio/SQL-Coding-...   \n",
       "1  https://github.com/haroldeustaquio/Python-Codi...   \n",
       "2  https://github.com/haroldeustaquio/Melody-Lyri...   \n",
       "3  https://github.com/haroldeustaquio/Machine-Lea...   \n",
       "4  https://github.com/haroldeustaquio/Web-Scrapin...   \n",
       "\n",
       "                                           repo_desc     repo_lenguaje stars  \\\n",
       "0  Repository dedicated to solving SQL problems f...              TSQL     5   \n",
       "1  Repository dedicated to solving Python problem...  Jupyter Notebook     6   \n",
       "2                                                NaN            Python   NaN   \n",
       "3  This repository contains Machine Learning mini...  Jupyter Notebook     6   \n",
       "4                                                NaN  Jupyter Notebook   NaN   \n",
       "\n",
       "  forks      license                 last_update  \n",
       "0     1  MIT License   Oct 13, 2024, 3:10 PM CST  \n",
       "1   NaN  MIT License   Oct 13, 2024, 5:00 AM CST  \n",
       "2     1          NaN   Oct 13, 2024, 2:31 AM CST  \n",
       "3   NaN  MIT License   Oct 13, 2024, 2:13 AM CST  \n",
       "4   NaN          NaN  Oct 12, 2024, 11:51 PM CST  "
      ]
     },
     "execution_count": 139,
     "metadata": {},
     "output_type": "execute_result"
    }
   ],
   "source": [
    "df_repos.head()"
   ]
  }
 ],
 "metadata": {
  "kernelspec": {
   "display_name": ".venv",
   "language": "python",
   "name": "python3"
  },
  "language_info": {
   "codemirror_mode": {
    "name": "ipython",
    "version": 3
   },
   "file_extension": ".py",
   "mimetype": "text/x-python",
   "name": "python",
   "nbconvert_exporter": "python",
   "pygments_lexer": "ipython3",
   "version": "3.11.9"
  }
 },
 "nbformat": 4,
 "nbformat_minor": 2
}
