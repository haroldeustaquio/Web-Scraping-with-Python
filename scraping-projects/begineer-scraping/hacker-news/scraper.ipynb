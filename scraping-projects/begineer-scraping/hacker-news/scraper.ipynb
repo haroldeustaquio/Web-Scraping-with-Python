{
 "cells": [
  {
   "cell_type": "markdown",
   "metadata": {},
   "source": [
    "## Importing libraries"
   ]
  },
  {
   "cell_type": "code",
   "execution_count": 2,
   "metadata": {},
   "outputs": [],
   "source": [
    "import requests\n",
    "import pandas as pd\n",
    "from bs4 import BeautifulSoup\n",
    "import numpy as np"
   ]
  },
  {
   "cell_type": "markdown",
   "metadata": {},
   "source": [
    "## Functions"
   ]
  },
  {
   "cell_type": "markdown",
   "metadata": {},
   "source": [
    "### `get_soup_from_page(url)`"
   ]
  },
  {
   "cell_type": "markdown",
   "metadata": {},
   "source": [
    "This function takes a URL as input, retrieves the webpage content using the requests library, and parses it into a BeautifulSoup object for HTML manipulation. If the request fails, it prints the status code of the response."
   ]
  },
  {
   "cell_type": "code",
   "execution_count": 3,
   "metadata": {},
   "outputs": [],
   "source": [
    "def get_soup_from_page(url):\n",
    "    try:\n",
    "        driver = requests.get(url)\n",
    "        soup = BeautifulSoup(driver.text, 'html.parser')\n",
    "        return soup\n",
    "    except: \n",
    "        return print('Status Code: ', driver.status_code)"
   ]
  },
  {
   "cell_type": "markdown",
   "metadata": {},
   "source": [
    "### `extract_info(soup)` || `safe_get_text(elements, index, default=np.nan)`"
   ]
  },
  {
   "cell_type": "markdown",
   "metadata": {},
   "source": [
    "`safe_get_text(elements, index, default=np.nan)`\n",
    "\n",
    "This helper function attempts to retrieve the text from a specified index of a list of HTML elements. If the element at that index is not found, it returns a default value (defaulting to NaN).\n"
   ]
  },
  {
   "cell_type": "markdown",
   "metadata": {},
   "source": [
    "`safe_get_text(elements, index, default=np.nan)`\n",
    "\n",
    "This helper function attempts to retrieve the text from a specified index of a list of HTML elements. If the element at that index is not found, it returns a default value (defaulting to NaN).\n"
   ]
  },
  {
   "cell_type": "code",
   "execution_count": 4,
   "metadata": {},
   "outputs": [],
   "source": [
    "info = []\n",
    "def safe_get_text(elements, index, default=np.nan):\n",
    "    \"\"\"Returns the text of an element at a given index, or a default value if not found.\"\"\"\n",
    "    try:\n",
    "        return elements[index].get_text().split()[0]\n",
    "    except (IndexError, AttributeError):\n",
    "        return default\n",
    "\n",
    "def extract_info(soup):\n",
    "    post = soup.select('.titleline a')\n",
    "    desc = soup.select('.subtext span')\n",
    "    n = len(post) // 2\n",
    "    \n",
    "    for i in range(n):        \n",
    "        title = post[2 * i].get_text()\n",
    "        href = post[2 * i].get('href')\n",
    "\n",
    "        points = safe_get_text(desc[4 * i].select('span'), 0)\n",
    "        hours = safe_get_text(desc[4 * i].select('span'), 1)\n",
    "        comments = safe_get_text(desc[4 * i].select('a'), 3)\n",
    "        by = safe_get_text(desc[4 * i].select('a'), 0)\n",
    "\n",
    "        info.append([title, href, points, by, hours, comments])"
   ]
  },
  {
   "cell_type": "markdown",
   "metadata": {},
   "source": [
    "### `extract_in_n_pages(n)`"
   ]
  },
  {
   "cell_type": "markdown",
   "metadata": {},
   "source": [
    "This function extracts article details from a specified number of pages (`n`) on the Hacker News website. It constructs the URL for each page and retrieves its HTML content using the `get_soup_from_page` function. If the page is successfully parsed, it calls the `extract_info` function to gather data and prints a completion message. If there’s an error in retrieving the page, it prints an error message."
   ]
  },
  {
   "cell_type": "code",
   "execution_count": 5,
   "metadata": {},
   "outputs": [],
   "source": [
    "def extract_in_n_pages(n):\n",
    "    for i in range(n):\n",
    "        base_url = 'https://news.ycombinator.com/'\n",
    "        \n",
    "        if i==0:\n",
    "            page=''\n",
    "        else:\n",
    "            page=f'?p={i}'\n",
    "        \n",
    "        url = base_url + page\n",
    "        soup = get_soup_from_page(url)\n",
    "\n",
    "        if str(soup) != 'Sorry.':\n",
    "            extract_info(soup)\n",
    "            print(f'Page {i+1} - Completed')\n",
    "        else:\n",
    "            print(f'Error in page: {i+1}')"
   ]
  },
  {
   "cell_type": "markdown",
   "metadata": {},
   "source": [
    "## Execution"
   ]
  },
  {
   "cell_type": "code",
   "execution_count": 6,
   "metadata": {},
   "outputs": [
    {
     "name": "stdout",
     "output_type": "stream",
     "text": [
      "Page 1 - Completed\n",
      "Page 2 - Completed\n",
      "Page 3 - Completed\n",
      "Page 4 - Completed\n",
      "Page 5 - Completed\n",
      "Page 6 - Completed\n",
      "Page 7 - Completed\n",
      "Page 8 - Completed\n",
      "Page 9 - Completed\n",
      "Page 10 - Completed\n"
     ]
    }
   ],
   "source": [
    "extract_in_n_pages(10)"
   ]
  },
  {
   "cell_type": "code",
   "execution_count": 7,
   "metadata": {},
   "outputs": [],
   "source": [
    "df = pd.DataFrame(info, columns=['title','href','points','by','hours ago','comments'])"
   ]
  },
  {
   "cell_type": "code",
   "execution_count": 8,
   "metadata": {},
   "outputs": [
    {
     "data": {
      "text/html": [
       "<div>\n",
       "<style scoped>\n",
       "    .dataframe tbody tr th:only-of-type {\n",
       "        vertical-align: middle;\n",
       "    }\n",
       "\n",
       "    .dataframe tbody tr th {\n",
       "        vertical-align: top;\n",
       "    }\n",
       "\n",
       "    .dataframe thead th {\n",
       "        text-align: right;\n",
       "    }\n",
       "</style>\n",
       "<table border=\"1\" class=\"dataframe\">\n",
       "  <thead>\n",
       "    <tr style=\"text-align: right;\">\n",
       "      <th></th>\n",
       "      <th>title</th>\n",
       "      <th>href</th>\n",
       "      <th>points</th>\n",
       "      <th>by</th>\n",
       "      <th>hours ago</th>\n",
       "      <th>comments</th>\n",
       "    </tr>\n",
       "  </thead>\n",
       "  <tbody>\n",
       "    <tr>\n",
       "      <th>0</th>\n",
       "      <td>DeskPad – A virtual monitor for screen sharing</td>\n",
       "      <td>https://github.com/Stengo/DeskPad</td>\n",
       "      <td>885</td>\n",
       "      <td>geerlingguy</td>\n",
       "      <td>18</td>\n",
       "      <td>124</td>\n",
       "    </tr>\n",
       "    <tr>\n",
       "      <th>1</th>\n",
       "      <td>Nurdle Patrol</td>\n",
       "      <td>https://www.nurdlepatrol.org/app/</td>\n",
       "      <td>49</td>\n",
       "      <td>amar-laksh</td>\n",
       "      <td>5</td>\n",
       "      <td>3</td>\n",
       "    </tr>\n",
       "    <tr>\n",
       "      <th>2</th>\n",
       "      <td>The Copenhagen Book: general guideline on impl...</td>\n",
       "      <td>https://thecopenhagenbook.com/</td>\n",
       "      <td>534</td>\n",
       "      <td>sebnun</td>\n",
       "      <td>16</td>\n",
       "      <td>132</td>\n",
       "    </tr>\n",
       "    <tr>\n",
       "      <th>3</th>\n",
       "      <td>AAA Gaming on Asahi Linux</td>\n",
       "      <td>https://rosenzweig.io/blog/aaa-gaming-on-m1.html</td>\n",
       "      <td>707</td>\n",
       "      <td>6a74</td>\n",
       "      <td>21</td>\n",
       "      <td>234</td>\n",
       "    </tr>\n",
       "    <tr>\n",
       "      <th>4</th>\n",
       "      <td>Scuda – Virtual GPU over IP</td>\n",
       "      <td>https://github.com/kevmo314/scuda</td>\n",
       "      <td>88</td>\n",
       "      <td>kevmo314</td>\n",
       "      <td>8</td>\n",
       "      <td>16</td>\n",
       "    </tr>\n",
       "  </tbody>\n",
       "</table>\n",
       "</div>"
      ],
      "text/plain": [
       "                                               title  \\\n",
       "0     DeskPad – A virtual monitor for screen sharing   \n",
       "1                                      Nurdle Patrol   \n",
       "2  The Copenhagen Book: general guideline on impl...   \n",
       "3                          AAA Gaming on Asahi Linux   \n",
       "4                        Scuda – Virtual GPU over IP   \n",
       "\n",
       "                                               href points           by  \\\n",
       "0                 https://github.com/Stengo/DeskPad    885  geerlingguy   \n",
       "1                 https://www.nurdlepatrol.org/app/     49   amar-laksh   \n",
       "2                    https://thecopenhagenbook.com/    534       sebnun   \n",
       "3  https://rosenzweig.io/blog/aaa-gaming-on-m1.html    707         6a74   \n",
       "4                 https://github.com/kevmo314/scuda     88     kevmo314   \n",
       "\n",
       "  hours ago comments  \n",
       "0        18      124  \n",
       "1         5        3  \n",
       "2        16      132  \n",
       "3        21      234  \n",
       "4         8       16  "
      ]
     },
     "execution_count": 8,
     "metadata": {},
     "output_type": "execute_result"
    }
   ],
   "source": [
    "df.head()"
   ]
  },
  {
   "cell_type": "code",
   "execution_count": 9,
   "metadata": {},
   "outputs": [],
   "source": [
    "df.to_csv('data.csv')"
   ]
  }
 ],
 "metadata": {
  "kernelspec": {
   "display_name": ".venv",
   "language": "python",
   "name": "python3"
  },
  "language_info": {
   "codemirror_mode": {
    "name": "ipython",
    "version": 3
   },
   "file_extension": ".py",
   "mimetype": "text/x-python",
   "name": "python",
   "nbconvert_exporter": "python",
   "pygments_lexer": "ipython3",
   "version": "3.11.9"
  }
 },
 "nbformat": 4,
 "nbformat_minor": 2
}
