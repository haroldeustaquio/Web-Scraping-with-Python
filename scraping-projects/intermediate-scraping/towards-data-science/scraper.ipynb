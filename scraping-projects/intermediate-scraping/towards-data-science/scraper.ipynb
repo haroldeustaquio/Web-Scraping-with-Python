{
 "cells": [
  {
   "cell_type": "code",
   "execution_count": 6,
   "metadata": {},
   "outputs": [],
   "source": [
    "import requests\n",
    "import pandas as pd\n",
    "from bs4 import BeautifulSoup\n",
    "import numpy as np\n",
    "from lxml import etree"
   ]
  },
  {
   "cell_type": "code",
   "execution_count": 7,
   "metadata": {},
   "outputs": [],
   "source": [
    "def get_lxml_from_page(url):\n",
    "    try:\n",
    "        driver = requests.get(url)\n",
    "        soup = BeautifulSoup(driver.text, 'html.parser')\n",
    "        return etree.HTML(str(soup))\n",
    "    except: \n",
    "        return print('Status Code: ', driver.status_code)"
   ]
  },
  {
   "cell_type": "code",
   "execution_count": 25,
   "metadata": {},
   "outputs": [],
   "source": [
    "info = []\n",
    "\n",
    "def extract_data(content, section):\n",
    "    article = content.xpath(f'{section}/div[2]/a/h3/div/text()')\n",
    "    url_article = content.xpath(f'{section}/div[1]/a/@href')\n",
    "    desc = content.xpath(f'{section}/div[2]/a/div/div/text()')\n",
    "    creator = content.xpath(f'{section}/div[2]/div/div/div[2]/a/text()')\n",
    "    creator_img = content.xpath(f'{section}/div[2]/div/div/div/a/img/@src')\n",
    "    creator_page = content.xpath(f'{section}/div[2]/div/div/div[2]/a/@href')\n",
    "    date = content.xpath(f'{section}/div[2]/div/div/div[2]/div/time/text()')\n",
    "    read_time = content.xpath(f'{section}/div[2]/div/div/div[2]/div/span[2]/@title')\n",
    "    info.append([article,url_article,desc,creator,creator_img,creator_page, date,read_time])\n",
    "\n",
    "def data_in_section(content):\n",
    "    section_1 = '//div[1]/section/div/div'\n",
    "    section_2 = '//div[2]/section/div/div'\n",
    "    section_3 = '//div[4]/section/div/div'\n",
    "    section_4 = '//div[5]/section/div/div'\n",
    "    # extract_data(content,section_1)\n",
    "    # extract_data(content,section_2)\n",
    "    extract_data(content,section_3)\n",
    "    # extract_data(content,section_4)"
   ]
  },
  {
   "cell_type": "code",
   "execution_count": 26,
   "metadata": {},
   "outputs": [],
   "source": [
    "url = 'https://towardsdatascience.com/'\n",
    "\n",
    "content = get_lxml_from_page(url)\n",
    "data_in_section(content)"
   ]
  },
  {
   "cell_type": "code",
   "execution_count": 66,
   "metadata": {},
   "outputs": [
    {
     "data": {
      "text/plain": [
       "[]"
      ]
     },
     "execution_count": 66,
     "metadata": {},
     "output_type": "execute_result"
    }
   ],
   "source": [
    "content.xpath('//*[@id=\"_obv.shell._surface_1728680792546\"]/div/div[4]/div[4]/section')"
   ]
  },
  {
   "cell_type": "code",
   "execution_count": 69,
   "metadata": {},
   "outputs": [],
   "source": [
    "driver = requests.get(url)\n",
    "soup = BeautifulSoup(driver.text, 'html.parser')"
   ]
  },
  {
   "cell_type": "code",
   "execution_count": 75,
   "metadata": {},
   "outputs": [
    {
     "data": {
      "text/plain": [
       "['Common Misconceptions About Data\\xa0Science',\n",
       " 'Understanding Automatic Differentiation in JAX: A Deep\\xa0Dive',\n",
       " 'A Mixed-Methods Approach to Offline Evaluation of News Recommender Systems',\n",
       " 'Topic Alignment for NLP Recommender Systems',\n",
       " 'Automatic Differentiation (AutoDiff): A Brief Intro with\\xa0Examples',\n",
       " 'Tracking Hurricanes With AI Weather\\xa0Models',\n",
       " 'Non-Linearity: Can Linear Regression Compete With Gradient Boosting?',\n",
       " 'What Goes Into AI? Exploring the GenAI Technology Stack',\n",
       " 'Model Selection: Building 5 Machine Learning Models (Part\\xa0II)',\n",
       " 'The Transparent Human',\n",
       " 'Is Google’s NotebookLM Going to Disrupt the Podcasting Industry?']"
      ]
     },
     "execution_count": 75,
     "metadata": {},
     "output_type": "execute_result"
    }
   ],
   "source": [
    "content.xpath('//h3/div/text()')"
   ]
  },
  {
   "cell_type": "code",
   "execution_count": 27,
   "metadata": {},
   "outputs": [
    {
     "data": {
      "text/html": [
       "<div>\n",
       "<style scoped>\n",
       "    .dataframe tbody tr th:only-of-type {\n",
       "        vertical-align: middle;\n",
       "    }\n",
       "\n",
       "    .dataframe tbody tr th {\n",
       "        vertical-align: top;\n",
       "    }\n",
       "\n",
       "    .dataframe thead th {\n",
       "        text-align: right;\n",
       "    }\n",
       "</style>\n",
       "<table border=\"1\" class=\"dataframe\">\n",
       "  <thead>\n",
       "    <tr style=\"text-align: right;\">\n",
       "      <th></th>\n",
       "      <th>0</th>\n",
       "      <th>1</th>\n",
       "      <th>2</th>\n",
       "      <th>3</th>\n",
       "      <th>4</th>\n",
       "      <th>5</th>\n",
       "      <th>6</th>\n",
       "      <th>7</th>\n",
       "    </tr>\n",
       "  </thead>\n",
       "  <tbody>\n",
       "  </tbody>\n",
       "</table>\n",
       "</div>"
      ],
      "text/plain": [
       "Empty DataFrame\n",
       "Columns: [0, 1, 2, 3, 4, 5, 6, 7]\n",
       "Index: []"
      ]
     },
     "execution_count": 27,
     "metadata": {},
     "output_type": "execute_result"
    }
   ],
   "source": [
    "pd.DataFrame(np.hstack(info)).T"
   ]
  }
 ],
 "metadata": {
  "kernelspec": {
   "display_name": ".venv",
   "language": "python",
   "name": "python3"
  },
  "language_info": {
   "codemirror_mode": {
    "name": "ipython",
    "version": 3
   },
   "file_extension": ".py",
   "mimetype": "text/x-python",
   "name": "python",
   "nbconvert_exporter": "python",
   "pygments_lexer": "ipython3",
   "version": "3.11.9"
  }
 },
 "nbformat": 4,
 "nbformat_minor": 2
}
